{
 "cells": [
  {
   "cell_type": "markdown",
   "id": "02e4b8d2",
   "metadata": {},
   "source": [
    "## Importar paquetes"
   ]
  },
  {
   "cell_type": "code",
   "execution_count": 7,
   "id": "dfbf4b82",
   "metadata": {},
   "outputs": [
    {
     "name": "stdout",
     "output_type": "stream",
     "text": [
      "📦 Módulo: <module 'mapbox_tilesets' from '/Users/sergio/Projects/RedwoodForest/.venv/lib/python3.6/site-packages/mapbox_tilesets/__init__.py'>\n",
      "📂 Ubicación del paquete: /Users/sergio/Projects/RedwoodForest/.venv/lib/python3.6/site-packages/mapbox_tilesets/__init__.py\n"
     ]
    }
   ],
   "source": [
    "import mapbox_tilesets\n",
    "print(\"📦 Módulo:\", mapbox_tilesets)\n",
    "print(\"📂 Ubicación del paquete:\", mapbox_tilesets.__file__)"
   ]
  },
  {
   "cell_type": "code",
   "execution_count": 6,
   "id": "b6ee68eb",
   "metadata": {},
   "outputs": [
    {
     "ename": "ImportError",
     "evalue": "cannot import name 'Tilesets'",
     "output_type": "error",
     "traceback": [
      "\u001b[0;31m---------------------------------------------------------------------------\u001b[0m",
      "\u001b[0;31mImportError\u001b[0m                               Traceback (most recent call last)",
      "\u001b[0;32m<ipython-input-6-b57b9434a2b4>\u001b[0m in \u001b[0;36m<module>\u001b[0;34m\u001b[0m\n\u001b[1;32m      1\u001b[0m \u001b[0;32mimport\u001b[0m \u001b[0mos\u001b[0m\u001b[0;34m,\u001b[0m \u001b[0mjson\u001b[0m\u001b[0;34m,\u001b[0m \u001b[0mre\u001b[0m\u001b[0;34m,\u001b[0m \u001b[0municodedata\u001b[0m\u001b[0;34m\u001b[0m\u001b[0;34m\u001b[0m\u001b[0m\n\u001b[1;32m      2\u001b[0m \u001b[0;32mfrom\u001b[0m \u001b[0mpathlib\u001b[0m \u001b[0;32mimport\u001b[0m \u001b[0mPath\u001b[0m\u001b[0;34m\u001b[0m\u001b[0;34m\u001b[0m\u001b[0m\n\u001b[0;32m----> 3\u001b[0;31m \u001b[0;32mfrom\u001b[0m \u001b[0mmapbox_tilesets\u001b[0m \u001b[0;32mimport\u001b[0m \u001b[0mTilesets\u001b[0m\u001b[0;34m\u001b[0m\u001b[0;34m\u001b[0m\u001b[0m\n\u001b[0m",
      "\u001b[0;31mImportError\u001b[0m: cannot import name 'Tilesets'"
     ]
    }
   ],
   "source": [
    "import os, json, re, unicodedata\n",
    "from pathlib import Path\n",
    "from mapbox_tilesets import Tilesets\n"
   ]
  },
  {
   "cell_type": "code",
   "execution_count": 4,
   "id": "a8dab50f",
   "metadata": {},
   "outputs": [
    {
     "name": "stdout",
     "output_type": "stream",
     "text": [
      "/Users/sergio/Projects/RedwoodForest/.venv/bin/python\n"
     ]
    }
   ],
   "source": [
    "!which python"
   ]
  },
  {
   "cell_type": "code",
   "execution_count": null,
   "id": "a1d2fd72",
   "metadata": {},
   "outputs": [],
   "source": [
    "# Sustituye esto con tu token real de Mapbox\n",
    "MAPBOX_ACCESS_TOKEN = \"pk.XXXXXXXXXXXXXXXXXXXXXXXXXXXXXXXXXXXXXXXX\"\n",
    "\n",
    "# Inicializa la conexión\n",
    "tilesets = Tilesets(access_token=MAPBOX_ACCESS_TOKEN)\n",
    "\n",
    "# Intenta listar los tilesets existentes\n",
    "try:\n",
    "    response = tilesets.list()\n",
    "    print(f\"✅ Conexión exitosa. Tilesets disponibles: {len(response)}\")\n",
    "except Exception as e:\n",
    "    print(\"❌ Error de conexión:\", e)\n"
   ]
  },
  {
   "cell_type": "markdown",
   "id": "1d777047",
   "metadata": {},
   "source": [
    "## Variables"
   ]
  },
  {
   "cell_type": "code",
   "execution_count": null,
   "id": "b541b363",
   "metadata": {},
   "outputs": [],
   "source": [
    "MAPBOX_USER  = \"sergio\"                # <- tu usuario Mapbox\n",
    "DATE_TAG     = \"07072025\"              # AAAAMMDD\n",
    "SRC_DIR      = Path(\"data/FR_Layers_Valid\")  # carpeta con 26 GeoJSON"
   ]
  },
  {
   "cell_type": "markdown",
   "id": "1cdee8e5",
   "metadata": {},
   "source": [
    "## Token"
   ]
  },
  {
   "cell_type": "code",
   "execution_count": null,
   "id": "17639c47",
   "metadata": {},
   "outputs": [],
   "source": [
    "# 2) TOKEN (cárgalo del entorno o ponlo directo — NO subas el token a Git)\n",
    "token = os.getenv(\"MAPBOX_ACCESS_TOKEN\", \"pk.XXXXXXXXXXXXXXXXXXXXXXXX\")\n",
    "assert token.startswith(\"pk.\"), \"⚠️  MAPBOX_ACCESS_TOKEN no definido\""
   ]
  },
  {
   "cell_type": "markdown",
   "id": "cc0c0324",
   "metadata": {},
   "source": [
    "\n",
    "## Cliente"
   ]
  },
  {
   "cell_type": "code",
   "execution_count": null,
   "id": "74f5bf8e",
   "metadata": {},
   "outputs": [],
   "source": [
    "ts = Tilesets()\n",
    "print(\"Tilesets CLI version:\", ts.__version__)\n",
    "print(\"Carpeta fuente:\", SRC_DIR.resolve())"
   ]
  },
  {
   "cell_type": "markdown",
   "id": "e1dd9aab",
   "metadata": {},
   "source": [
    "## Funciones auxiliares"
   ]
  },
  {
   "cell_type": "code",
   "execution_count": null,
   "id": "50623ac9",
   "metadata": {},
   "outputs": [],
   "source": [
    "def slugify(name: str) -> str:\n",
    "    \"\"\"Pasa a minúsculas, reemplaza espacios y quita símbolos no válidos\"\"\"\n",
    "    name = name.lower()\n",
    "    name = re.sub(r\"[^\\w_]+\", \"_\", name)   # sólo a-z 0-9 _\n",
    "    name = re.sub(r\"__+\", \"_\", name)       # colapsa doble guión bajo\n",
    "    return name.strip(\"_\")[:24]            # corta a 24 caract. (queda margen)\n",
    "\n",
    "def make_recipe(source_id: str, layer_name: str, minzoom=6, maxzoom=14):\n",
    "    return {\n",
    "        \"version\": 1,\n",
    "        \"layers\": {\n",
    "            layer_name: {\n",
    "                \"source\": f\"mapbox://tileset-source/{MAPBOX_USER}/{source_id}\",\n",
    "                \"minzoom\": minzoom,\n",
    "                \"maxzoom\": maxzoom\n",
    "            }\n",
    "        }\n",
    "    }"
   ]
  },
  {
   "cell_type": "markdown",
   "id": "70feb7a9",
   "metadata": {},
   "source": [
    "Bucle de carga masiva"
   ]
  },
  {
   "cell_type": "code",
   "execution_count": null,
   "id": "4b502ccf",
   "metadata": {},
   "outputs": [],
   "source": [
    "for geojson in sorted(SRC_DIR.glob(\"*.geojson\")):\n",
    "    basename     = slugify(geojson.stem)\n",
    "    source_id    = f\"{MAPBOX_USER}_src_{DATE_TAG}_{basename}\"\n",
    "    tileset_id   = f\"{MAPBOX_USER}_rff_{DATE_TAG}_{basename}\"\n",
    "\n",
    "    print(f\"\\n⬆️  {geojson.name} → {tileset_id}\")\n",
    "\n",
    "    # 1. SUBIR / REEMPLAZAR SOURCE\n",
    "    rsp = ts.upload_source(MAPBOX_USER, source_id, str(geojson))\n",
    "    print(\"   • Source upload:\", rsp.status_code)\n",
    "\n",
    "    # 2. CREAR O ACTUALIZAR TILESET\n",
    "    recipe = make_recipe(source_id, basename)\n",
    "\n",
    "    # ¿Existe ya?\n",
    "    existing = [t[\"id\"] for t in ts.list().json()[\"tilesets\"]]\n",
    "    if tileset_id in existing:\n",
    "        rsp = ts.update(tileset_id, name=basename, recipe=recipe)\n",
    "        print(\"   • Tileset update:\", rsp.status_code)\n",
    "    else:\n",
    "        rsp = ts.create(tileset_id, name=basename, recipe=recipe)\n",
    "        print(\"   • Tileset create:\", rsp.status_code)\n",
    "\n",
    "    # 3. PUBLICAR\n",
    "    rsp = ts.publish(tileset_id)\n",
    "    job_id = rsp.json()[\"jobId\"]\n",
    "    print(\"   • Publish job:\", job_id)\n",
    "\n",
    "print(\"\\n✅ Todos los jobs enviados. Revisa progreso en Mapbox Studio → Tilesets.\")"
   ]
  }
 ],
 "metadata": {
  "kernelspec": {
   "display_name": ".venv",
   "language": "python",
   "name": "python3"
  },
  "language_info": {
   "codemirror_mode": {
    "name": "ipython",
    "version": 3
   },
   "file_extension": ".py",
   "mimetype": "text/x-python",
   "name": "python",
   "nbconvert_exporter": "python",
   "pygments_lexer": "ipython3",
   "version": "3.11.13"
  }
 },
 "nbformat": 4,
 "nbformat_minor": 5
}

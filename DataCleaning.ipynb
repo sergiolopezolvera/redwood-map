{
 "cells": [
  {
   "cell_type": "markdown",
   "id": "0f0b2e9c",
   "metadata": {},
   "source": [
    "## Importar Paquetes"
   ]
  },
  {
   "cell_type": "code",
   "execution_count": 14,
   "id": "4cd86add",
   "metadata": {},
   "outputs": [],
   "source": [
    "import geopandas as gpd\n",
    "import pandas as pd\n",
    "from pathlib import Path"
   ]
  },
  {
   "cell_type": "markdown",
   "id": "31b96c03",
   "metadata": {},
   "source": [
    "# Revisión de calidad de los datos\n",
    "## Ruta del directorio que contiene los archivos .geojson"
   ]
  },
  {
   "cell_type": "code",
   "execution_count": 15,
   "id": "745f3549",
   "metadata": {},
   "outputs": [
    {
     "name": "stdout",
     "output_type": "stream",
     "text": [
      "Directorio de trabajo: /Users/sergio/Projects/RedwoodForest/data/RF_Layers\n"
     ]
    }
   ],
   "source": [
    "DATA_DIR = Path(\"data/RF_Layers\")\n",
    "\n",
    "assert DATA_DIR.exists(), f\"No se encontró la carpeta: {DATA_DIR.resolve()}\"\n",
    "print(\"Directorio de trabajo:\", DATA_DIR.resolve())"
   ]
  },
  {
   "cell_type": "markdown",
   "id": "a07dd0b0",
   "metadata": {},
   "source": [
    "## Localizar los 26 archivos geoJSON"
   ]
  },
  {
   "cell_type": "code",
   "execution_count": 16,
   "id": "c8690354",
   "metadata": {},
   "outputs": [
    {
     "name": "stdout",
     "output_type": "stream",
     "text": [
      "Se encontraron 26 archivos GeoJSON\n"
     ]
    },
    {
     "data": {
      "text/plain": [
       "[PosixPath('data/RF_Layers/Biological_Resources_CDFW_Fishbarriers.geojson'),\n",
       " PosixPath('data/RF_Layers/Biological_Resources_Coho_Distribution.geojson'),\n",
       " PosixPath('data/RF_Layers/Biological_Resources_Coho_Range.geojson'),\n",
       " PosixPath('data/RF_Layers/Biological_Resources_Wildlife_Trees.geojson'),\n",
       " PosixPath('data/RF_Layers/California_Data_AdjacentLand.geojson')]"
      ]
     },
     "execution_count": 16,
     "metadata": {},
     "output_type": "execute_result"
    }
   ],
   "source": [
    "geojson_files = sorted(DATA_DIR.glob(\"*.geojson\"))\n",
    "print(f\"Se encontraron {len(geojson_files)} archivos GeoJSON\")\n",
    "geojson_files[:5]   # vista rápida de los primeros 5"
   ]
  },
  {
   "cell_type": "markdown",
   "id": "e585469b",
   "metadata": {},
   "source": [
    "## Función para describir los 26 archivos geoJSON"
   ]
  },
  {
   "cell_type": "code",
   "execution_count": 17,
   "id": "a765daf6",
   "metadata": {},
   "outputs": [],
   "source": [
    "def describe_layer(path: Path) -> dict:\n",
    "    gdf = gpd.read_file(path)\n",
    "    \n",
    "    crs_text = gdf.crs.to_string() if gdf.crs else \"SIN_CRS\"\n",
    "    invalid  = (~gdf.is_valid).sum()      # geometrías no válidas\n",
    "    geom_types = \", \".join(sorted(gdf.geom_type.unique()))\n",
    "    \n",
    "    # lista de atributos excepto la columna geometry\n",
    "    attrs = \", \".join([c for c in gdf.columns if c != \"geometry\"])\n",
    "    \n",
    "    return {\n",
    "        \"layer\": path.stem,\n",
    "        \"features\": len(gdf),\n",
    "        \"geom_types\": geom_types,\n",
    "        \"crs\": crs_text,\n",
    "        \"invalid_geoms\": invalid,\n",
    "        \"attributes\": attrs\n",
    "    }"
   ]
  },
  {
   "cell_type": "markdown",
   "id": "59946ff8",
   "metadata": {},
   "source": [
    "## Generar un inventario con los archivos y su información"
   ]
  },
  {
   "cell_type": "code",
   "execution_count": 18,
   "id": "b171a4f7",
   "metadata": {},
   "outputs": [
    {
     "name": "stdout",
     "output_type": "stream",
     "text": [
      "Inventario generado: 26 capas\n"
     ]
    },
    {
     "data": {
      "text/html": [
       "<div>\n",
       "<style scoped>\n",
       "    .dataframe tbody tr th:only-of-type {\n",
       "        vertical-align: middle;\n",
       "    }\n",
       "\n",
       "    .dataframe tbody tr th {\n",
       "        vertical-align: top;\n",
       "    }\n",
       "\n",
       "    .dataframe thead th {\n",
       "        text-align: right;\n",
       "    }\n",
       "</style>\n",
       "<table border=\"1\" class=\"dataframe\">\n",
       "  <thead>\n",
       "    <tr style=\"text-align: right;\">\n",
       "      <th></th>\n",
       "      <th>layer</th>\n",
       "      <th>features</th>\n",
       "      <th>geom_types</th>\n",
       "      <th>crs</th>\n",
       "      <th>invalid_geoms</th>\n",
       "      <th>attributes</th>\n",
       "    </tr>\n",
       "  </thead>\n",
       "  <tbody>\n",
       "    <tr>\n",
       "      <th>0</th>\n",
       "      <td>Biological_Resources_CDFW_Fishbarriers</td>\n",
       "      <td>116</td>\n",
       "      <td>Point</td>\n",
       "      <td>EPSG:4326</td>\n",
       "      <td>0</td>\n",
       "      <td>OBJECTID, PAD_ID, PassageID, StreamName, Tribu...</td>\n",
       "    </tr>\n",
       "    <tr>\n",
       "      <th>1</th>\n",
       "      <td>Biological_Resources_Coho_Distribution</td>\n",
       "      <td>4650</td>\n",
       "      <td>LineString, MultiLineString</td>\n",
       "      <td>EPSG:4326</td>\n",
       "      <td>0</td>\n",
       "      <td>OBJECTID, Early_Yr, Late_Yr, GNIS_ID, GNIS_Nam...</td>\n",
       "    </tr>\n",
       "    <tr>\n",
       "      <th>2</th>\n",
       "      <td>Biological_Resources_Coho_Range</td>\n",
       "      <td>676</td>\n",
       "      <td>Polygon</td>\n",
       "      <td>EPSG:4326</td>\n",
       "      <td>0</td>\n",
       "      <td>OBJECTID, CALWNUM, CDFPWSName, CDFNUM22, Acrea...</td>\n",
       "    </tr>\n",
       "    <tr>\n",
       "      <th>3</th>\n",
       "      <td>Biological_Resources_Wildlife_Trees</td>\n",
       "      <td>29</td>\n",
       "      <td>Point</td>\n",
       "      <td>EPSG:4326</td>\n",
       "      <td>0</td>\n",
       "      <td>OBJECTID_1, OBJECTID, Tree_ID, Tree_Speci, DBH...</td>\n",
       "    </tr>\n",
       "    <tr>\n",
       "      <th>4</th>\n",
       "      <td>California_Data_AdjacentLand</td>\n",
       "      <td>304</td>\n",
       "      <td>MultiPolygon, Polygon</td>\n",
       "      <td>EPSG:4326</td>\n",
       "      <td>3</td>\n",
       "      <td>OBJECTID, Gross_Acre, Owner_Code, Owner_Name, ...</td>\n",
       "    </tr>\n",
       "    <tr>\n",
       "      <th>5</th>\n",
       "      <td>California_Data_Buildings</td>\n",
       "      <td>257</td>\n",
       "      <td>Point</td>\n",
       "      <td>EPSG:4326</td>\n",
       "      <td>0</td>\n",
       "      <td>OBJECTID, UNIQUEID, POINT_TYPE, MATERIAL, LOCA...</td>\n",
       "    </tr>\n",
       "  </tbody>\n",
       "</table>\n",
       "</div>"
      ],
      "text/plain": [
       "                                    layer  features  \\\n",
       "0  Biological_Resources_CDFW_Fishbarriers       116   \n",
       "1  Biological_Resources_Coho_Distribution      4650   \n",
       "2         Biological_Resources_Coho_Range       676   \n",
       "3     Biological_Resources_Wildlife_Trees        29   \n",
       "4            California_Data_AdjacentLand       304   \n",
       "5               California_Data_Buildings       257   \n",
       "\n",
       "                    geom_types        crs  invalid_geoms  \\\n",
       "0                        Point  EPSG:4326              0   \n",
       "1  LineString, MultiLineString  EPSG:4326              0   \n",
       "2                      Polygon  EPSG:4326              0   \n",
       "3                        Point  EPSG:4326              0   \n",
       "4        MultiPolygon, Polygon  EPSG:4326              3   \n",
       "5                        Point  EPSG:4326              0   \n",
       "\n",
       "                                          attributes  \n",
       "0  OBJECTID, PAD_ID, PassageID, StreamName, Tribu...  \n",
       "1  OBJECTID, Early_Yr, Late_Yr, GNIS_ID, GNIS_Nam...  \n",
       "2  OBJECTID, CALWNUM, CDFPWSName, CDFNUM22, Acrea...  \n",
       "3  OBJECTID_1, OBJECTID, Tree_ID, Tree_Speci, DBH...  \n",
       "4  OBJECTID, Gross_Acre, Owner_Code, Owner_Name, ...  \n",
       "5  OBJECTID, UNIQUEID, POINT_TYPE, MATERIAL, LOCA...  "
      ]
     },
     "execution_count": 18,
     "metadata": {},
     "output_type": "execute_result"
    }
   ],
   "source": [
    "inventory = pd.DataFrame([describe_layer(p) for p in geojson_files])\n",
    "print(f\"Inventario generado: {len(inventory)} capas\")\n",
    "inventory.head(6)"
   ]
  },
  {
   "cell_type": "markdown",
   "id": "fc913e39",
   "metadata": {},
   "source": [
    "## Comprobación de SRCs y validez de geometrías"
   ]
  },
  {
   "cell_type": "code",
   "execution_count": 19,
   "id": "53e7ba65",
   "metadata": {},
   "outputs": [
    {
     "name": "stdout",
     "output_type": "stream",
     "text": [
      "¿Todos los CRS son EPSG:4326? → True\n"
     ]
    },
    {
     "data": {
      "text/html": [
       "<div>\n",
       "<style scoped>\n",
       "    .dataframe tbody tr th:only-of-type {\n",
       "        vertical-align: middle;\n",
       "    }\n",
       "\n",
       "    .dataframe tbody tr th {\n",
       "        vertical-align: top;\n",
       "    }\n",
       "\n",
       "    .dataframe thead th {\n",
       "        text-align: right;\n",
       "    }\n",
       "</style>\n",
       "<table border=\"1\" class=\"dataframe\">\n",
       "  <thead>\n",
       "    <tr style=\"text-align: right;\">\n",
       "      <th></th>\n",
       "      <th>layer</th>\n",
       "      <th>features</th>\n",
       "      <th>geom_types</th>\n",
       "      <th>crs</th>\n",
       "      <th>invalid_geoms</th>\n",
       "      <th>attributes</th>\n",
       "    </tr>\n",
       "  </thead>\n",
       "  <tbody>\n",
       "  </tbody>\n",
       "</table>\n",
       "</div>"
      ],
      "text/plain": [
       "Empty DataFrame\n",
       "Columns: [layer, features, geom_types, crs, invalid_geoms, attributes]\n",
       "Index: []"
      ]
     },
     "metadata": {},
     "output_type": "display_data"
    },
    {
     "data": {
      "text/html": [
       "<div>\n",
       "<style scoped>\n",
       "    .dataframe tbody tr th:only-of-type {\n",
       "        vertical-align: middle;\n",
       "    }\n",
       "\n",
       "    .dataframe tbody tr th {\n",
       "        vertical-align: top;\n",
       "    }\n",
       "\n",
       "    .dataframe thead th {\n",
       "        text-align: right;\n",
       "    }\n",
       "</style>\n",
       "<table border=\"1\" class=\"dataframe\">\n",
       "  <thead>\n",
       "    <tr style=\"text-align: right;\">\n",
       "      <th></th>\n",
       "      <th>layer</th>\n",
       "      <th>features</th>\n",
       "      <th>geom_types</th>\n",
       "      <th>crs</th>\n",
       "      <th>invalid_geoms</th>\n",
       "      <th>attributes</th>\n",
       "    </tr>\n",
       "  </thead>\n",
       "  <tbody>\n",
       "    <tr>\n",
       "      <th>4</th>\n",
       "      <td>California_Data_AdjacentLand</td>\n",
       "      <td>304</td>\n",
       "      <td>MultiPolygon, Polygon</td>\n",
       "      <td>EPSG:4326</td>\n",
       "      <td>3</td>\n",
       "      <td>OBJECTID, Gross_Acre, Owner_Code, Owner_Name, ...</td>\n",
       "    </tr>\n",
       "    <tr>\n",
       "      <th>13</th>\n",
       "      <td>California_Data_Mendo_county_parcels_2013</td>\n",
       "      <td>61010</td>\n",
       "      <td>MultiPolygon, Polygon</td>\n",
       "      <td>EPSG:4326</td>\n",
       "      <td>27</td>\n",
       "      <td>OBJECTID, APN, BOOK, PAGE, BLOCK, PARCEL, MULT...</td>\n",
       "    </tr>\n",
       "    <tr>\n",
       "      <th>15</th>\n",
       "      <td>California_Data_Miscelllaneous_Polygons</td>\n",
       "      <td>9</td>\n",
       "      <td>Polygon</td>\n",
       "      <td>EPSG:4326</td>\n",
       "      <td>1</td>\n",
       "      <td>OBJECTID, UNIQUE_ID, TYPE, DESCRIPTIO, CHGUSER...</td>\n",
       "    </tr>\n",
       "  </tbody>\n",
       "</table>\n",
       "</div>"
      ],
      "text/plain": [
       "                                        layer  features  \\\n",
       "4                California_Data_AdjacentLand       304   \n",
       "13  California_Data_Mendo_county_parcels_2013     61010   \n",
       "15    California_Data_Miscelllaneous_Polygons         9   \n",
       "\n",
       "               geom_types        crs  invalid_geoms  \\\n",
       "4   MultiPolygon, Polygon  EPSG:4326              3   \n",
       "13  MultiPolygon, Polygon  EPSG:4326             27   \n",
       "15                Polygon  EPSG:4326              1   \n",
       "\n",
       "                                           attributes  \n",
       "4   OBJECTID, Gross_Acre, Owner_Code, Owner_Name, ...  \n",
       "13  OBJECTID, APN, BOOK, PAGE, BLOCK, PARCEL, MULT...  \n",
       "15  OBJECTID, UNIQUE_ID, TYPE, DESCRIPTIO, CHGUSER...  "
      ]
     },
     "metadata": {},
     "output_type": "display_data"
    }
   ],
   "source": [
    "# 1. ¿Todos los CRS ya están en WGS 84?\n",
    "all_wgs84 = inventory[\"crs\"].eq(\"EPSG:4326\").all()\n",
    "print(\"¿Todos los CRS son EPSG:4326? →\", all_wgs84)\n",
    "\n",
    "# 2. Capas con CRS distinto\n",
    "bad_crs = inventory[~inventory[\"crs\"].eq(\"EPSG:4326\")]\n",
    "# 3. Capas con geometrías inválidas\n",
    "invalids = inventory[inventory[\"invalid_geoms\"] > 0]\n",
    "\n",
    "display(bad_crs)\n",
    "display(invalids)"
   ]
  },
  {
   "cell_type": "markdown",
   "id": "6599b4c8",
   "metadata": {},
   "source": [
    "## Corregir geometrías inválidas"
   ]
  },
  {
   "cell_type": "code",
   "execution_count": 20,
   "id": "c1838fbf",
   "metadata": {},
   "outputs": [
    {
     "name": "stdout",
     "output_type": "stream",
     "text": [
      "Capas corregidas guardadas en: /Users/sergio/Projects/RedwoodForest/data/FR_Layers_clean\n"
     ]
    }
   ],
   "source": [
    "from shapely.validation import make_valid   # requiere shapely ≥ 2.0\n",
    "\n",
    "FIX_DIR = Path(\"data/FR_Layers_clean\")\n",
    "FIX_DIR.mkdir(exist_ok=True)\n",
    "\n",
    "for p in geojson_files:\n",
    "    gdf = gpd.read_file(p)\n",
    "    \n",
    "    # Reproyectar si hiciera falta \n",
    "    if gdf.crs and gdf.crs.to_epsg() != 4326:\n",
    "        gdf = gdf.to_crs(4326)\n",
    "\n",
    "    # Arreglar geometrías inválidas\n",
    "    if (~gdf.is_valid).any():\n",
    "        # make_valid es más seguro que buffer(0) en shapely 2.0\n",
    "        gdf[\"geometry\"] = gdf[\"geometry\"].apply(\n",
    "            lambda geom: make_valid(geom) if not geom.is_valid else geom\n",
    "        )\n",
    "\n",
    "    gdf.to_file(FIX_DIR / p.name, driver=\"GeoJSON\")\n",
    "\n",
    "print(\"Capas corregidas guardadas en:\", FIX_DIR.resolve())"
   ]
  },
  {
   "cell_type": "markdown",
   "id": "7348f35d",
   "metadata": {},
   "source": [
    "## Función para describir archivos corregidos\n",
    "Es similar a la anterior, pero evita errores cuando el resultado es None"
   ]
  },
  {
   "cell_type": "code",
   "execution_count": 21,
   "id": "b9aeee2b",
   "metadata": {},
   "outputs": [],
   "source": [
    "def describe_fixed_layer(path: Path) -> dict:\n",
    "    gdf = gpd.read_file(path)\n",
    "\n",
    "    crs_text = gdf.crs.to_string() if gdf.crs else \"SIN_CRS\"\n",
    "    invalid  = (~gdf.is_valid).sum()\n",
    "\n",
    "    # Filtra valores None antes de ordenar\n",
    "    geom_types_list = [gt for gt in gdf.geom_type.unique() if gt is not None]\n",
    "    geom_types = \", \".join(sorted(map(str, geom_types_list)))\n",
    "\n",
    "    attrs = \", \".join([c for c in gdf.columns if c != \"geometry\"])\n",
    "\n",
    "    return {\n",
    "        \"layer\": path.stem,\n",
    "        \"features\": len(gdf),\n",
    "        \"geom_types\": geom_types or \"None\",\n",
    "        \"crs\": crs_text,\n",
    "        \"invalid_geoms\": invalid,\n",
    "        \"attributes\": attrs\n",
    "    }"
   ]
  },
  {
   "cell_type": "markdown",
   "id": "0f5caf87",
   "metadata": {},
   "source": [
    "## Revisar archivos corregidos"
   ]
  },
  {
   "cell_type": "code",
   "execution_count": 23,
   "id": "785ba4d8",
   "metadata": {},
   "outputs": [
    {
     "name": "stdout",
     "output_type": "stream",
     "text": [
      "¿Todos los CRS son EPSG:4326? → True\n"
     ]
    },
    {
     "data": {
      "text/html": [
       "<div>\n",
       "<style scoped>\n",
       "    .dataframe tbody tr th:only-of-type {\n",
       "        vertical-align: middle;\n",
       "    }\n",
       "\n",
       "    .dataframe tbody tr th {\n",
       "        vertical-align: top;\n",
       "    }\n",
       "\n",
       "    .dataframe thead th {\n",
       "        text-align: right;\n",
       "    }\n",
       "</style>\n",
       "<table border=\"1\" class=\"dataframe\">\n",
       "  <thead>\n",
       "    <tr style=\"text-align: right;\">\n",
       "      <th></th>\n",
       "      <th>layer</th>\n",
       "      <th>features</th>\n",
       "      <th>geom_types</th>\n",
       "      <th>crs</th>\n",
       "      <th>invalid_geoms</th>\n",
       "      <th>attributes</th>\n",
       "    </tr>\n",
       "  </thead>\n",
       "  <tbody>\n",
       "  </tbody>\n",
       "</table>\n",
       "</div>"
      ],
      "text/plain": [
       "Empty DataFrame\n",
       "Columns: [layer, features, geom_types, crs, invalid_geoms, attributes]\n",
       "Index: []"
      ]
     },
     "metadata": {},
     "output_type": "display_data"
    },
    {
     "data": {
      "text/html": [
       "<div>\n",
       "<style scoped>\n",
       "    .dataframe tbody tr th:only-of-type {\n",
       "        vertical-align: middle;\n",
       "    }\n",
       "\n",
       "    .dataframe tbody tr th {\n",
       "        vertical-align: top;\n",
       "    }\n",
       "\n",
       "    .dataframe thead th {\n",
       "        text-align: right;\n",
       "    }\n",
       "</style>\n",
       "<table border=\"1\" class=\"dataframe\">\n",
       "  <thead>\n",
       "    <tr style=\"text-align: right;\">\n",
       "      <th></th>\n",
       "      <th>layer</th>\n",
       "      <th>features</th>\n",
       "      <th>geom_types</th>\n",
       "      <th>crs</th>\n",
       "      <th>invalid_geoms</th>\n",
       "      <th>attributes</th>\n",
       "    </tr>\n",
       "  </thead>\n",
       "  <tbody>\n",
       "    <tr>\n",
       "      <th>22</th>\n",
       "      <td>Forestry_Roads</td>\n",
       "      <td>6886</td>\n",
       "      <td>LineString</td>\n",
       "      <td>EPSG:4326</td>\n",
       "      <td>6</td>\n",
       "      <td>OBJECTID, ROAD_TYPE, SURFACE, STATUS, CONDITIO...</td>\n",
       "    </tr>\n",
       "    <tr>\n",
       "      <th>24</th>\n",
       "      <td>Forestry_Streams</td>\n",
       "      <td>5608</td>\n",
       "      <td>LineString, MultiLineString</td>\n",
       "      <td>EPSG:4326</td>\n",
       "      <td>5</td>\n",
       "      <td>OBJECTID, STREAM_TYP, STREAM_COD, CLASS, FLOW,...</td>\n",
       "    </tr>\n",
       "  </tbody>\n",
       "</table>\n",
       "</div>"
      ],
      "text/plain": [
       "               layer  features                   geom_types        crs  \\\n",
       "22    Forestry_Roads      6886                   LineString  EPSG:4326   \n",
       "24  Forestry_Streams      5608  LineString, MultiLineString  EPSG:4326   \n",
       "\n",
       "    invalid_geoms                                         attributes  \n",
       "22              6  OBJECTID, ROAD_TYPE, SURFACE, STATUS, CONDITIO...  \n",
       "24              5  OBJECTID, STREAM_TYP, STREAM_COD, CLASS, FLOW,...  "
      ]
     },
     "metadata": {},
     "output_type": "display_data"
    }
   ],
   "source": [
    "geojson_files_fixed = sorted(FIX_DIR.glob(\"*.geojson\"))\n",
    "inventory_fixed = pd.DataFrame([describe_fixed_layer(p) for p in geojson_files_fixed])\n",
    "\n",
    "# 1. ¿Todos los CRS ya están en WGS 84?\n",
    "all_wgs84_fixed = inventory_fixed[\"crs\"].eq(\"EPSG:4326\").all()\n",
    "print(\"¿Todos los CRS son EPSG:4326? →\", all_wgs84_fixed)\n",
    "\n",
    "# 2. Capas con CRS distinto\n",
    "bad_crs_fixed = inventory_fixed[~inventory_fixed[\"crs\"].eq(\"EPSG:4326\")]\n",
    "# 3. Capas con geometrías inválidas\n",
    "invalids_fixed = inventory_fixed[inventory_fixed[\"invalid_geoms\"] > 0]\n",
    "\n",
    "display(bad_crs_fixed)\n",
    "display(invalids_fixed)\n"
   ]
  },
  {
   "cell_type": "markdown",
   "id": "b90a7fd1",
   "metadata": {},
   "source": [
    "Revisé los archivos con geometrías inválidas en QGIS y no parece que haya pérdidas de información relevantes."
   ]
  },
  {
   "cell_type": "markdown",
   "id": "e339d47b",
   "metadata": {},
   "source": [
    "## Soltar (drop) geometrías inválidas de los archivos originales"
   ]
  },
  {
   "cell_type": "code",
   "execution_count": 27,
   "id": "9ec416ca",
   "metadata": {},
   "outputs": [
    {
     "name": "stdout",
     "output_type": "stream",
     "text": [
      "✔ Biological_Resources_CDFW_Fishbarriers: 116 válidas · 0 eliminadas\n",
      "✔ Biological_Resources_Coho_Distribution: 4650 válidas · 0 eliminadas\n",
      "✔ Biological_Resources_Coho_Range: 676 válidas · 0 eliminadas\n",
      "✔ Biological_Resources_Wildlife_Trees: 29 válidas · 0 eliminadas\n",
      "✔ California_Data_AdjacentLand: 301 válidas · 3 eliminadas\n",
      "✔ California_Data_Buildings: 257 válidas · 0 eliminadas\n",
      "✔ California_Data_CA_cities: 6904 válidas · 0 eliminadas\n",
      "✔ California_Data_CA_counties: 58 válidas · 0 eliminadas\n",
      "✔ California_Data_CA_quad_index: 2882 válidas · 0 eliminadas\n",
      "✔ California_Data_CalTrans_MilePosts: 311908 válidas · 0 eliminadas\n",
      "✔ California_Data_CalWater_NorthCoast: 1566 válidas · 0 eliminadas\n",
      "✔ California_Data_Contour_clipped: 7847 válidas · 0 eliminadas\n",
      "✔ California_Data_Landmarks: 33 válidas · 0 eliminadas\n",
      "✔ California_Data_Mendo_county_parcels_2013: 60983 válidas · 27 eliminadas\n",
      "✔ California_Data_Mendocino_county: 10 válidas · 0 eliminadas\n",
      "✔ California_Data_Miscelllaneous_Polygons: 8 válidas · 1 eliminadas\n",
      "✔ California_Data_Powelines: 1 válidas · 0 eliminadas\n",
      "✔ California_Data_Roads_UShwys: 37427 válidas · 0 eliminadas\n",
      "✔ California_Data_Roads_statehwys: 62997 válidas · 0 eliminadas\n",
      "✔ California_Data_Sections: 1287 válidas · 0 eliminadas\n",
      "✔ California_Data_Townships: 45 válidas · 0 eliminadas\n",
      "✔ Forestry_Gates: 48 válidas · 0 eliminadas\n",
      "✔ Forestry_Roads: 6880 válidas · 6 eliminadas\n",
      "✔ Forestry_Springs_WetAreas: 225 válidas · 0 eliminadas\n",
      "✔ Forestry_Streams: 5603 válidas · 5 eliminadas\n",
      "✔ Forestry_Usal_Ownership: 9 válidas · 0 eliminadas\n",
      "\n",
      "Limpieza completada. Archivos válidos en: /Users/sergio/Projects/RedwoodForest/data/FR_Layers_Valid\n"
     ]
    }
   ],
   "source": [
    "DEST_DIR = Path(\"data/FR_Layers_Valid\")   # carpeta destino\n",
    "DEST_DIR.mkdir(exist_ok=True)\n",
    "\n",
    "def drop_invalid(src_path: Path, dest_dir: Path):\n",
    "    gdf = gpd.read_file(src_path)\n",
    "    total = len(gdf)                      # antes de filtrar\n",
    "\n",
    "    # 1️⃣ Geometrías nulas\n",
    "    gdf = gdf.dropna(subset=[\"geometry\"])\n",
    "\n",
    "    # 2️⃣ Geometrías vacías\n",
    "    gdf = gdf[~gdf.geometry.is_empty]\n",
    "\n",
    "    # 3️⃣ Geometrías inválidas\n",
    "    gdf = gdf[gdf.is_valid]\n",
    "\n",
    "    kept   = len(gdf)\n",
    "    removed = total - kept\n",
    "\n",
    "    if kept:\n",
    "        gdf.to_file(dest_dir / src_path.name, driver=\"GeoJSON\")\n",
    "        print(f\"✔ {src_path.stem}: {kept} válidas · {removed} eliminadas\")\n",
    "    else:\n",
    "        print(f\"⚠ {src_path.stem}: 0 válidas · {removed} eliminadas → no se guardó\")\n",
    "\n",
    "for p in sorted(DATA_DIR.glob(\"*.geojson\")):\n",
    "    drop_invalid(p, DEST_DIR)\n",
    "\n",
    "print(\"\\nLimpieza completada. Archivos válidos en:\", DEST_DIR.resolve())"
   ]
  },
  {
   "cell_type": "markdown",
   "id": "731e5ec9",
   "metadata": {},
   "source": [
    "## Verificación de geometrías resultantes"
   ]
  },
  {
   "cell_type": "code",
   "execution_count": null,
   "id": "e2c99fd6",
   "metadata": {},
   "outputs": [],
   "source": [
    "DATA_DIR = Path(\"data/FR_Layers_Valid\")   # cambia la ruta\n",
    "geojson_files_valid = sorted(DATA_DIR.glob(\"*.geojson\"))\n",
    "inventory_valid = pd.DataFrame([describe_layer(p) for p in geojson_files_valid])\n",
    "inventory_valid[[\"layer\", \"invalid_geoms\", \"null_geoms\"]].head()\n"
   ]
  }
 ],
 "metadata": {
  "kernelspec": {
   "display_name": ".venv",
   "language": "python",
   "name": "python3"
  },
  "language_info": {
   "codemirror_mode": {
    "name": "ipython",
    "version": 3
   },
   "file_extension": ".py",
   "mimetype": "text/x-python",
   "name": "python",
   "nbconvert_exporter": "python",
   "pygments_lexer": "ipython3",
   "version": "3.6.8"
  }
 },
 "nbformat": 4,
 "nbformat_minor": 5
}
